{
 "cells": [
  {
   "cell_type": "markdown",
   "metadata": {},
   "source": [
    "# New Approach"
   ]
  },
  {
   "cell_type": "code",
   "execution_count": 1,
   "metadata": {},
   "outputs": [],
   "source": [
    "import torch as t\n",
    "import torch.nn as nn\n",
    "import torch.nn.functional as F\n",
    "from torch.distributions import Gamma\n",
    "\n",
    "import bayesfunc as bf\n",
    "import matplotlib.pyplot as plt\n",
    "from tqdm.notebook import tqdm, trange\n",
    "from ipywidgets import interact_manual, interact, FloatSlider, IntSlider\n",
    "\n",
    "dtype=t.float64\n",
    "device=\"cpu\"\n",
    "#device=\"cuda\""
   ]
  },
  {
   "cell_type": "markdown",
   "metadata": {},
   "source": [
    "# Toy Data"
   ]
  },
  {
   "cell_type": "code",
   "execution_count": 2,
   "metadata": {},
   "outputs": [
    {
     "data": {
      "text/plain": [
       "<matplotlib.collections.PathCollection at 0x7fa520c52e80>"
      ]
     },
     "execution_count": 2,
     "metadata": {},
     "output_type": "execute_result"
    },
    {
     "data": {
      "image/png": "[encoded data removed]",
      "text/plain": [
       "<Figure size 432x288 with 1 Axes>"
      ]
     },
     "metadata": {
      "needs_background": "light"
     },
     "output_type": "display_data"
    }
   ],
   "source": [
    "in_features = 1\n",
    "out_features = 1\n",
    "train_batch = 40\n",
    "batches = 3\n",
    "data_size = batches * train_batch\n",
    "\n",
    "t.manual_seed(0)\n",
    "\n",
    "def generate_data():\n",
    "    noise = Gamma(2, 0.1)\n",
    "    X = t.rand(data_size, in_features) * 4 - 2\n",
    "    x_1 = X[:int(data_size/2), :]\n",
    "    x_2 = X[int(data_size/2):, :]\n",
    "    \n",
    "    y = t.cat((\n",
    "        x_1**3 + 20 + 0.1 * noise.sample((int(data_size/2), in_features)),\n",
    "        x_2**3 - 20 - 0.1 * noise.sample((int(data_size/2), in_features))\n",
    "    ))\n",
    "    \n",
    "    scale = y.std()\n",
    "    y = y/scale\n",
    "    \n",
    "    xys = t.cat((X,y),1)\n",
    "    xys = xys[t.randperm(xys.size()[0])]\n",
    "    X = xys[:,0].unsqueeze(1).to(device=device, dtype=dtype)\n",
    "    y = xys[:,1].unsqueeze(1).to(device=device, dtype=dtype)\n",
    "    return X, y, scale\n",
    "\n",
    "X, y, scale = generate_data()\n",
    "\n",
    "plt.scatter(X.detach().cpu(), y.detach().cpu())"
   ]
  },
  {
   "cell_type": "markdown",
   "metadata": {},
   "source": [
    "We model the probability of the outcome variable $y$ as\n",
    "$$\n",
    "P(y) = \\frac{1}{Z}\\prod^N_{i=1}P_i(y),\n",
    "$$\n",
    "writing the corresponding log-probability as\n",
    "$$\n",
    "\\mathcal{L}(y) = \\sum^N_{i=1}\\mathcal{L}_i(y) - \\log Z\n",
    "$$\n",
    "where each $L_i(y)$ is of the form:\n",
    "$$\n",
    "\\mathcal{L}(y) = \\sum^N_{i=1} - (y-f_i)\\left(\\alpha_i \\Theta(y-f_i) - \\beta_i\\Theta(y-f_i)\\right) - \\log Z,\n",
    "$$\n",
    "where $\\Theta(u)$ is Heaviside step with value $1$ if $u>0$ and $0$ otherwise, $\\alpha_i > 0$ and $\\beta_i > 0$ for all $i \\in [1, N]$ and we also assume $f_i$ are ordered; that is, $f_i \\le f_{i+1}$ for all $i \\in [1,N]$. Crucially each of these terms in the summand is negative for all values of $y$, hence the probability is a valid member of the exponential family of distributions.\n",
    "\n",
    "The normalising term $Z$ is found as\n",
    "$$\n",
    "Z = \\frac{1}{a_0}e^{a_0f_1+b_0} + \\sum^{N-1}_{j=1}\\frac{1}{a_j}e^{b_j}\\left(e^{a_jf_{j+1}}-e^{a_jf_j}\\right) - \\frac{1}{a_N}e^{a_Nf_N + b_N},\n",
    "$$\n",
    "where\n",
    "\\begin{align*}\n",
    "a_j &= \\sum^N_{i=j+1}\\beta_i - \\sum^j_{i=1}\\alpha_i \\\\\n",
    "b_j &= \\sum^j_{i=1}\\alpha_if_i - \\sum^N_{i=j+1}\\beta_if_i,\n",
    "\\end{align*}\n",
    "In particular, we have the following edge cases which can be written explicitly; for $j=0$:\n",
    "$$\n",
    "a_0 = \\sum^N_{i=1}\\beta_i,\\ \\ \\ \\ b_0 = -\\sum^N_{i=1}\\beta_if_i\n",
    "$$\n",
    "and for $j=N$:\n",
    "$$\n",
    "a_N = -\\sum^N_{i=1}\\alpha_i,\\ \\ \\ \\ b_N = \\sum^N_{i=1}\\alpha_if_i.\n",
    "$$"
   ]
  },
  {
   "cell_type": "markdown",
   "metadata": {},
   "source": [
    "To enforce the constraints on the values of $\\mathbf{f}$, $\\mathbf{\\alpha}$ and $\\mathbf{\\beta}$, we first ensure that each are positive. Let the $\\mathbf{f}$ values returned from the network be denoted $\\hat{f}$. The ordering constraint on $f$ is enforced by additionally outputting a base value $r$ to which $\\hat{f}_1$ is added, giving $f_1 = r + \\hat{f}_1$. Subsequent $f_i$ for $i > 1$ can be recovered by finding the cumulative sum $f_i = f_{i-1} + \\hat{f}_i$."
   ]
  },
  {
   "cell_type": "markdown",
   "metadata": {},
   "source": [
    "We can devise a simple dynamic programming algorithm to compute these normalising terms $a_j$ and $b_j$ efficiently by computing vectors of their partial sums in $O(n)$ time."
   ]
  },
  {
   "cell_type": "code",
   "execution_count": 3,
   "metadata": {},
   "outputs": [
    {
     "data": {
      "application/vnd.jupyter.widget-view+json": {
       "model_id": "d3b980790c014273b0130e5bde5926f0",
       "version_major": 2,
       "version_minor": 0
      },
      "text/plain": [
       "HBox(children=(FloatProgress(value=0.0, max=500.0), HTML(value='')))"
      ]
     },
     "metadata": {},
     "output_type": "display_data"
    },
    {
     "name": "stdout",
     "output_type": "stream",
     "text": [
      "\n"
     ]
    }
   ],
   "source": [
    "inducing_batch = 40\n",
    "\n",
    "# number of fs, alphas and betas\n",
    "N = 10\n",
    "\n",
    "# Select Data\n",
    "data_X = X\n",
    "data_y = y\n",
    "scale = scale\n",
    "\n",
    "class NET(nn.Module):\n",
    "    \"\"\"Yet unnamed, newfangled neural network thing\"\"\"\n",
    "    def __init__(self, inducing_batch, N):\n",
    "        hidden = 50\n",
    "        super(NET, self).__init__()\n",
    "        inducing_data = t.linspace(data_X.min(), data_X.max(), inducing_batch).unsqueeze(1)\n",
    "        self.ia = bf.InducingAdd(inducing_batch=inducing_batch, inducing_data=inducing_data)\n",
    "        self.ir = bf.InducingRemove(inducing_batch=inducing_batch)\n",
    "        \n",
    "        self.fc1 = bf.GILinear(in_features=1, out_features=hidden, inducing_batch=inducing_batch, bias=True)\n",
    "        self.offset = bf.GILinear(in_features=hidden, out_features=1, inducing_batch=inducing_batch, bias=True, full_prec=True)\n",
    "        self.f = bf.GILinear(in_features=hidden, out_features=N, inducing_batch=inducing_batch, bias=True, full_prec=True)\n",
    "        self.alpha = bf.GILinear(in_features=hidden, out_features=N, inducing_batch=inducing_batch, bias=True, full_prec=True)\n",
    "        self.beta = bf.GILinear(in_features=hidden, out_features=N, inducing_batch=inducing_batch, bias=True, full_prec=True)\n",
    "        \n",
    "    def forward(self, x):\n",
    "        x = self.ia(x)\n",
    "        x = F.relu(self.fc1(x))\n",
    "        # this can be positive or negative\n",
    "        offset = self.ir(self.offset(x))\n",
    "        # the following _must_ be non-negative, here we use softplus\n",
    "        f = self.ir(F.softplus(self.f(x)))\n",
    "        alpha = self.ir(F.softplus(self.alpha(x)))\n",
    "        beta = self.ir(F.softplus(self.beta(x)))\n",
    "        return offset, f, alpha, beta\n",
    "    \n",
    "net = NET(inducing_batch, N).to(device=device, dtype=dtype)\n",
    "\n",
    "samples = 10\n",
    "opt = t.optim.Adam(net.parameters(), lr=0.05)\n",
    "for i in tqdm(range(500)):\n",
    "    for batch in range(batches):\n",
    "        l = batch * train_batch\n",
    "        u = l     + train_batch\n",
    "        batch_X = data_X[l:u].expand(samples, -1, -1)\n",
    "        batch_y = data_y[l:u].expand(samples, -1, -1)\n",
    "        opt.zero_grad()\n",
    "\n",
    "        (offset, f, alpha, beta), logpq, _ = bf.propagate(net, batch_X)\n",
    "        \n",
    "        # Add an offset to f_0 for all samples, and all points in the batch\n",
    "        offset = t.cat((\n",
    "            offset,\n",
    "            t.zeros_like(offset).expand(-1, -1, N-1).to(dtype=dtype, device=device)\n",
    "        ),2)\n",
    "        f = f + offset\n",
    "        # Find the cumulative sum to ensure f_i <= f_{i+1}\n",
    "        f = f.cumsum(2)\n",
    "        \n",
    "        # Log-likelihood terms\n",
    "        res = batch_y - f\n",
    "        ll_terms = -(res) * t.where(res > 0, alpha, -beta)\n",
    "        \n",
    "        # Calculating the normalising term ------------------------------------\n",
    "        \n",
    "        # Flip these matrices along third dimension by copying memory; O(n)\n",
    "        b_flip = beta.flip(2)\n",
    "        f_flip = f.flip(2)\n",
    "        \n",
    "        # Calculate vectors of partial sums ('_ps') in O(n) time\n",
    "        a_ps = alpha.cumsum(2)\n",
    "        b_ps = b_flip.cumsum(2).flip(2)\n",
    "        af_ps = (alpha*f).cumsum(2)\n",
    "        bf_ps = (b_flip * f_flip).cumsum(2).flip(2)\n",
    "\n",
    "        # Calculate main coefficient vectors\n",
    "        a_vec  = b_ps[:,:,1:] - a_ps[:,:,:-1]\n",
    "        b_vec  = af_ps[:,:,:-1] - bf_ps[:,:,1:]\n",
    "        \n",
    "        # Calculate terms for interval y \\in (-\\infty, f_1]\n",
    "        a_0 = b_ps[:,:,0]\n",
    "        b_0 = - bf_ps[:,:,0]\n",
    "        a_N = - a_ps[:,:,-1]\n",
    "        b_N = af_ps[:,:,-1]\n",
    "        \n",
    "        # Calculate the normalising term\n",
    "        Z = 1/a_0 * t.exp(a_0 * f[:,:,0] + b_0)\n",
    "        Z = Z + (1/a_vec * t.exp(b_vec)*(t.exp(a_vec * f[:,:,1:])-t.exp(a_vec*f[:,:,:-1]))).sum(2)\n",
    "        Z = Z - (1/a_N * t.exp(a_N * f[:,:,N-1] + b_N))\n",
    "                        \n",
    "        lls = ll_terms.sum(-1) - t.log(Z)\n",
    "        ll = lls.mean(-1)\n",
    "        assert ll.shape == (samples,)\n",
    "        assert logpq.shape == (samples,)\n",
    "        elbo = ll + logpq/data_size\n",
    "        \n",
    "        (-elbo.mean()).backward()\n",
    "        opt.step()\n",
    "        "
   ]
  },
  {
   "cell_type": "code",
   "execution_count": 4,
   "metadata": {},
   "outputs": [
    {
     "data": {
      "application/vnd.jupyter.widget-view+json": {
       "model_id": "d1c63efe5a6c4f949c74be72128576dd",
       "version_major": 2,
       "version_minor": 0
      },
      "text/plain": [
       "interactive(children=(FloatSlider(value=0.0, description='x_loc', max=1.9882662296295166, min=-1.9950559139251…"
      ]
     },
     "metadata": {},
     "output_type": "display_data"
    },
    {
     "data": {
      "text/plain": [
       "<function __main__.plot_density(x_loc)>"
      ]
     },
     "execution_count": 4,
     "metadata": {},
     "output_type": "execute_result"
    }
   ],
   "source": [
    "num_pts = 100\n",
    "\n",
    "def plot_density(x_loc):\n",
    "    # The number of points to plot the quantile function at (ys)\n",
    "    with t.no_grad():\n",
    "        samples = 100\n",
    "        xs = t.tensor([x_loc]).unsqueeze(1).to(dtype=dtype, device=device)\n",
    "        ys = t.linspace(-5, 5, num_pts).unsqueeze(1).to(dtype=dtype, device=device)\n",
    "        xs = xs.expand(samples, -1, -1)\n",
    "        ys = ys.expand(samples, -1, -1)\n",
    "        (ref, f, alpha, beta), _, _ = bf.propagate(net, xs)\n",
    "        \n",
    "        offset = t.cat((\n",
    "            ref,\n",
    "            t.zeros_like(ref).expand(-1, -1, N-1).to(dtype=dtype, device=device)\n",
    "        ),2)\n",
    "        f = f + offset\n",
    "        # Find the cumulative sum to ensure f_i <= f_{i+1}\n",
    "        f = f.cumsum(2)\n",
    "        \n",
    "        # Log-likelihood terms\n",
    "        res = ys - f\n",
    "        # TODO exponentiate here\n",
    "        ll_terms = -(res) * t.where(res > 0, alpha, -beta)\n",
    "        \n",
    "        # Calculating the normalising term ------------------------------------\n",
    "        \n",
    "        # Flip these matrices along third dimension by copying memory; O(n)\n",
    "        b_flip = beta.flip(2)\n",
    "        f_flip = f.flip(2)\n",
    "        \n",
    "        # Calculate vectors of partial sums O(n)\n",
    "        a_ps = alpha.cumsum(2)\n",
    "        b_ps = b_flip.cumsum(2).flip(2)\n",
    "        af_ps = (alpha*f).cumsum(2)\n",
    "        bf_ps = (b_flip * f_flip).cumsum(2).flip(2)\n",
    "\n",
    "        # Calculate main coefficient vectors\n",
    "        a_vec  = b_ps[:,:,1:] - a_ps[:,:,:-1]\n",
    "        b_vec  = af_ps[:,:,:-1] - bf_ps[:,:,1:]\n",
    "        \n",
    "        # Calculate terms for interval y \\in (-\\infty, f_1]\n",
    "        a_0 = b_ps[:,:,0]\n",
    "        b_0 = - bf_ps[:,:,0]\n",
    "        a_N = - a_ps[:,:,-1]\n",
    "        b_N = af_ps[:,:,-1]\n",
    "        \n",
    "        # Calculate the normalising term\n",
    "        Z = 1/a_0 * t.exp(a_0 * f[:,:,0] + b_0)\n",
    "        Z = Z + (1/a_vec * t.exp(b_vec)*(t.exp(a_vec * f[:,:,1:])-t.exp(a_vec*f[:,:,:-1]))).sum(2)\n",
    "        Z = Z - (1/a_N * t.exp(a_N * f[:,:,N-1] + b_N))\n",
    "                        \n",
    "        ls = t.exp(ll_terms.sum(-1) - t.log(Z))\n",
    "        l = ls.mean(0).detach().cpu()\n",
    "        std = ls.std(0).detach().cpu()\n",
    "        \n",
    "        plt.plot(ys[0].detach().cpu(), l)\n",
    "        plt.fill_between(ys[0].detach().cpu().squeeze(), (l+2*std).squeeze(), (l-2*std).squeeze(), alpha=0.2)\n",
    "        plt.title(f\"Distribution at x={x_loc}\")\n",
    "        plt.ylabel(\"Density\")\n",
    "        plt.xlabel(\"Y value\")\n",
    "\n",
    "interact(plot_density, x_loc=FloatSlider(min=data_X.min(), max=data_X.max()))"
   ]
  },
  {
   "cell_type": "code",
   "execution_count": null,
   "metadata": {},
   "outputs": [],
   "source": []
  }
 ],
 "metadata": {
  "kernelspec": {
   "display_name": "Python 3",
   "language": "python",
   "name": "python3"
  },
  "language_info": {
   "codemirror_mode": {
    "name": "ipython",
    "version": 3
   },
   "file_extension": ".py",
   "mimetype": "text/x-python",
   "name": "python",
   "nbconvert_exporter": "python",
   "pygments_lexer": "ipython3",
   "version": "3.8.5"
  }
 },
 "nbformat": 4,
 "nbformat_minor": 4
}
