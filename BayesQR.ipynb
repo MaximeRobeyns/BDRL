{
 "cells": [
  {
   "cell_type": "markdown",
   "metadata": {},
   "source": [
    "# Bayesian Quantile Regression\n",
    "\n",
    "Here are some experiments to use a BNN to approximate a conditional quantile function $Q_Y(\\tau \\vert \\mathbf{x}) \\approx f_\\theta(\\tau, \\mathbf{x})$."
   ]
  },
  {
   "cell_type": "code",
   "execution_count": 8,
   "metadata": {},
   "outputs": [],
   "source": [
    "import math\n",
    "import torch as t\n",
    "from torch.distributions import Normal, Gamma\n",
    "from torch.distributions.multivariate_normal import MultivariateNormal\n",
    "import torch.nn as nn\n",
    "import torch.nn.functional as F\n",
    "import bayesfunc as bf\n",
    "import matplotlib.pyplot as plt\n",
    "from tqdm.notebook import tqdm, trange\n",
    "from ipywidgets import interact_manual, interact, FloatSlider, IntSlider\n",
    "\n",
    "dtype=t.float64\n",
    "device=\"cpu\""
   ]
  },
  {
   "cell_type": "markdown",
   "metadata": {},
   "source": [
    "## Toy Data"
   ]
  },
  {
   "cell_type": "code",
   "execution_count": 9,
   "metadata": {},
   "outputs": [
    {
     "data": {
      "text/plain": [
       "<matplotlib.collections.PathCollection at 0x7fcd377471f0>"
      ]
     },
     "execution_count": 9,
     "metadata": {},
     "output_type": "execute_result"
    },
    {
     "data": {
      "image/png": "[encoded data removed]",
      "text/plain": [
       "<Figure size 1008x432 with 2 Axes>"
      ]
     },
     "metadata": {
      "needs_background": "light"
     },
     "output_type": "display_data"
    }
   ],
   "source": [
    "in_features = 1\n",
    "out_features = 1\n",
    "train_batch = 40\n",
    "batches = 5\n",
    "data_size = batches * train_batch\n",
    "\n",
    "t.manual_seed(0)\n",
    "\n",
    "def generate_data_1():\n",
    "    noise = Gamma(5, 0.2)\n",
    "    X = t.rand(data_size, in_features) * 4 - 2\n",
    "    x_1 = X[:int(data_size/2), :]\n",
    "    x_2 = X[int(data_size/2):, :]\n",
    "    \n",
    "    y = t.cat((\n",
    "        x_1**3 + 5 + 0.5 * noise.sample([int(data_size/2), in_features]),\n",
    "        x_2**3 - 5 - 0.5 * noise.sample([int(data_size/2), in_features])\n",
    "    ))\n",
    "\n",
    "    scale = y.std()\n",
    "    y = y/scale\n",
    "    \n",
    "    # shuffle dataset...\n",
    "    # TODO remove this: the model should fit the data regardless of its permutation.\n",
    "    xys = t.cat((X,y), 1)\n",
    "    xys = xys[t.randperm(xys.size()[0])]\n",
    "    X = xys[:,0].unsqueeze(1).to(device=device, dtype=dtype)\n",
    "    y = xys[:,1].unsqueeze(1).to(device=device, dtype=dtype)\n",
    "    return X, y, scale\n",
    "\n",
    "def generate_data_2():\n",
    "    X = t.rand(data_size, in_features) * 2 - 1\n",
    "    #y = X**3 + X * noise.sample((data_size, in_features))\n",
    "    \n",
    "    noise = Normal(0, 1)\n",
    "    y = X + noise.sample((data_size, in_features))\n",
    "    \n",
    "    scale = y.std()\n",
    "    y = y/scale\n",
    "    \n",
    "    xys = t.cat((X,y), 1)\n",
    "    xys = xys[t.randperm(xys.size()[0])]\n",
    "    X = xys[:,0].unsqueeze(1).to(device=device, dtype=dtype)\n",
    "    y = xys[:,1].unsqueeze(1).to(device=device, dtype=dtype)\n",
    "    return X, y, scale\n",
    "    \n",
    "    return X.to(device=device, dtype=dtype), y.to(device=device, dtype=dtype), scale\n",
    "    \n",
    "X, y, scale = generate_data_1()\n",
    "X1, y1, scale1 = generate_data_2()\n",
    "\n",
    "f, (ax1, ax2) = plt.subplots(1, 2, figsize=(14,6))#, dpi=100)\n",
    "\n",
    "ax1.scatter(X.detach(),y.detach())\n",
    "ax2.scatter(X1.detach(), y1.detach())"
   ]
  },
  {
   "cell_type": "markdown",
   "metadata": {},
   "source": [
    "## Frequentist Neural Network Approach\n",
    "\n",
    "Here is an example of what's being done in, for instance, _Autoregressive Quantile Networks for Generative Modelling_ (Ostrovski, Dabney, and Munos 2018), and _Learning Policies through Quantile Regression_ (Richter and Wattenhofer 2019).\n",
    "\n",
    "The loss function here is the '_expected quantile loss_'\n",
    "$$\n",
    "\\mathcal{L}_{QR} = \\mathbb{E}_{\\tau \\sim U(0,1)}\\left[\\mathbb{E}_{(\\mathbf{x}, y)\\sim \\mathcal{D}}\\left[\\rho_{\\tau}\\big(y - f_\\theta(\\tau; \\mathbf{x})\\big)\\right]\\right],\n",
    "$$\n",
    "where $\\rho_\\tau(u)$ is\n",
    "$$\n",
    "\\rho_{\\tau}(u) = u\\big(\\tau - \\mathbb{I}_{(u<0)}\\big)\n",
    "$$"
   ]
  },
  {
   "cell_type": "code",
   "execution_count": 5,
   "metadata": {},
   "outputs": [
    {
     "data": {
      "application/vnd.jupyter.widget-view+json": {
       "model_id": "a4ce1c47665341f2a36cf7910d940c11",
       "version_major": 2,
       "version_minor": 0
      },
      "text/plain": [
       "HBox(children=(FloatProgress(value=0.0, max=200.0), HTML(value='')))"
      ]
     },
     "metadata": {},
     "output_type": "display_data"
    },
    {
     "name": "stdout",
     "output_type": "stream",
     "text": [
      "\n"
     ]
    }
   ],
   "source": [
    "data_X = X\n",
    "data_y = y\n",
    "scale = scale\n",
    "\n",
    "ffnet = nn.Sequential(\n",
    "    nn.Linear(in_features=2, out_features=50, bias=True),\n",
    "    nn.ReLU(),\n",
    "    #nn.Dropout(p=0.01),\n",
    "    nn.Linear(in_features=50, out_features=1, bias=True)\n",
    ")\n",
    "ffnet = ffnet.to(device=device, dtype=dtype)\n",
    "\n",
    "def rho(tau, u):\n",
    "    \"\"\"Quantile regression loss\"\"\"\n",
    "    mask = t.where(u.detach() < 0, t.tensor([1]), t.tensor([0]))\n",
    "    return u * (tau - mask)\n",
    "\n",
    "# This is the number of times we will evaluate a random quantile for each batch.\n",
    "tau_samples = 10\n",
    "opt = t.optim.Adam(ffnet.parameters(), lr=0.05)\n",
    "for i in tqdm(range(200)):\n",
    "    for b in range(batches):\n",
    "        l = b * train_batch\n",
    "        u = l + train_batch\n",
    "        #taus = t.rand(tau_samples).repeat_interleave(train_batch).unsqueeze(1).to(device=device, dtype=dtype)\n",
    "        taus = t.rand((tau_samples * train_batch, 1)).to(device=device, dtype=dtype)\n",
    "        batch_X = t.cat((\n",
    "            data_X[l:u,0].repeat(tau_samples).unsqueeze(1),\n",
    "            taus\n",
    "        ), 1)\n",
    "        batch_y = data_y[l:u,0].repeat(tau_samples).unsqueeze(1)\n",
    "        opt.zero_grad()\n",
    "        output = ffnet(batch_X)\n",
    "        loss = rho(taus, batch_y - output).mean()\n",
    "        loss.backward()\n",
    "        opt.step()"
   ]
  },
  {
   "cell_type": "code",
   "execution_count": 6,
   "metadata": {},
   "outputs": [
    {
     "data": {
      "image/png": "[encoded data removed]",
      "text/plain": [
       "<Figure size 432x288 with 1 Axes>"
      ]
     },
     "metadata": {
      "needs_background": "light"
     },
     "output_type": "display_data"
    }
   ],
   "source": [
    "def plot_quantiles_ff(net):\n",
    "    with t.no_grad():\n",
    "        num_quantiles = 20\n",
    "        quantiles = [i * 1/num_quantiles for i in range(1,num_quantiles)]\n",
    "\n",
    "        # plot the quantile function for each of the n quantiles:\n",
    "        for q in quantiles: \n",
    "            min = data_X.min()\n",
    "            max = data_X.max()\n",
    "            xs = t.linspace(min, max, 100)[:, None].to(device=device, dtype=dtype)\n",
    "            qs =  q * t.ones(xs.shape).to(device=device, dtype=dtype)\n",
    "            xs = t.cat((xs,qs), 1)\n",
    "            ys = net(xs)\n",
    "            plt.plot(xs[:,0].cpu(), ys.cpu())\n",
    "            #plt.fill_between(xs[:,0], mean_ys[:,0]-2*std_ys[:,0], mean_ys[:,0]+2*std_ys[:,0], alpha=0.2)\n",
    "        plt.scatter(data_X.cpu(), data_y.cpu(), c='r')\n",
    "        \n",
    "plot_quantiles_ff(ffnet)"
   ]
  },
  {
   "cell_type": "markdown",
   "metadata": {},
   "source": [
    "Having trained the network on the data above, we can now recover the Quantile function, CDF and PDF. For the quantile function:"
   ]
  },
  {
   "cell_type": "markdown",
   "metadata": {},
   "source": [
    "We can use autodiff to recover the density: the sparsity function is\n",
    "$$\n",
    "\\frac{\\delta}{\\delta \\tau}F^{-1}_X(\\tau) = \\frac{1}{p_X(F^{-1}_X(\\tau))}.\n",
    "$$\n",
    "So we can evaluate the density at known quantiles\n",
    "$$\n",
    "p_X\\big(F^{-1}_X(\\tau)\\big) = \\frac{1}{\\frac{\\delta}{\\delta \\tau} F^{-1}_X(\\tau)}\n",
    "$$"
   ]
  },
  {
   "cell_type": "code",
   "execution_count": 7,
   "metadata": {},
   "outputs": [
    {
     "data": {
      "application/vnd.jupyter.widget-view+json": {
       "model_id": "09f4962fd84749a8b85c35f9341aa1fb",
       "version_major": 2,
       "version_minor": 0
      },
      "text/plain": [
       "interactive(children=(FloatSlider(value=0.0, description='x_loc', max=1.9882662296295166, min=-1.9950559139251…"
      ]
     },
     "metadata": {},
     "output_type": "display_data"
    },
    {
     "data": {
      "text/plain": [
       "<function __main__.plot_density_ff(x_loc)>"
      ]
     },
     "execution_count": 7,
     "metadata": {},
     "output_type": "execute_result"
    }
   ],
   "source": [
    "def plot_density_ff(x_loc):\n",
    "    # The number of points to plot the quantile function at\n",
    "    N = 80\n",
    "    taus = t.linspace(0, 1, N).to(dtype=dtype).unsqueeze(1)\n",
    "    taus = taus.clone().detach().requires_grad_(True)#t.tensor(taus, requires_grad=True)\n",
    "    xs = t.cat((\n",
    "        t.tensor([x_loc]).repeat(N).to(dtype=dtype).unsqueeze(1),\n",
    "        taus\n",
    "    ), 1).to(device=device)\n",
    "    \n",
    "    ys = ffnet(xs)\n",
    "    f, (ax1, ax2) = plt.subplots(1, 2, figsize=(14,6))#, dpi=100)\n",
    "\n",
    "    ax1.set_title(\"FF Network Quantile Function Approx\")\n",
    "    ax1.set_xlabel(\"tau\")\n",
    "    ax1.set_ylabel(\"value\")\n",
    "    ax1.plot(taus.detach(), ys.detach().cpu())\n",
    "\n",
    "    ys.backward(gradient=t.ones_like(taus))\n",
    "\n",
    "    data = t.cat((taus.detach(), 1/taus.grad), 1).cpu()\n",
    "    # sort on the y values\n",
    "    ax2.set_title(\"FF Network PDF\")\n",
    "    ax2.set_xlabel(\"value\")\n",
    "    ax2.set_ylabel(\"density\")\n",
    "    ax2.plot(ys.detach().cpu(), data[:,1])\n",
    "\n",
    "interact(plot_density_ff, x_loc=FloatSlider(min=data_X.min(), max=data_X.max()))"
   ]
  },
  {
   "cell_type": "markdown",
   "metadata": {},
   "source": [
    "# Bayesian Neural Network approach\n",
    "\n",
    "Here we use a Bayesian neural network to approximate the full conditional quantile function for all quantiles $\\tau \\in (0,1)$. That is, we're approximating $Q(\\tau \\vert \\mathbf{x}) = F^{-1}_X(\\tau \\vert \\mathbf{x}) \\approx f_\\theta(\\tau, \\mathbf{x})$.\n",
    "\n",
    "For each input data point $(\\tau_i, \\mathbf{x}_i)$, the network will output a predicted quantile, $y_i$. The likelihood of this individual output prediction can be obtained by evaluating the double exponential distribution (see, e.g. Yu and Moyeed 2001),\n",
    "$$\n",
    "P(y_i \\vert \\mathbf{x}_i, \\tau_i, \\mathbf{w}) = \\frac{\\tau_i (1-\\tau_i)}{\\sigma}\\exp\\left\\{-\\rho_{\\tau_i}\\left(\\frac{y_i - f_{\\mathbf{w}}(\\tau_i, \\mathbf{x}_i)}{\\sigma}\\right)\\right\\},\n",
    "$$\n",
    "where $\\rho_\\tau(u)$ is the usual quantile regression loss function, which has the following (potentially more convenient) forms:\n",
    "\\begin{align*}\n",
    "\\rho_{\\tau}(u) &= u\\big(\\tau - \\mathbb{I}_{(u<0)}\\big) \\\\\n",
    "&= u\\big(\\tau\\mathbb{I}_{(u>0)} - (1-\\tau)\\mathbb{I}_{(u<0)}\\big) \\\\\n",
    "&= \\frac{\\vert u \\vert + (2\\tau - 1)u}{2}.\n",
    "\\end{align*}\n",
    "The $\\tau_i$s are sampled uniformly at random from the unit interval, $\\tau_i \\sim U(0,1)$.\n",
    "\n",
    "This 'double exponential distribution' is a normalised probability distribution with scale parameter $\\sigma$, which acts similarly to a Gaussian.\n",
    "\n",
    "For computing the ELBO using a minibatched estimate, we use\n",
    "$$\n",
    "\\hat{\\mathcal{L}}(\\phi \\vert \\mathbf{y}, \\vec{\\tau}, \\mathbf{X}) = \\frac{1}{B}\\sum^B_{i=1}\\log P(y_i \\vert \\mathbf{x}_i, \\tau_i, \\mathbf{w}) + \\frac{1}{N}\\big(\\log P(\\mathbf{w}) - \\log Q_\\phi(\\mathbf{w})\\big),\n",
    "$$\n",
    "for $\\mathbf{w}$ some weights sampled from the (approximate) posterior."
   ]
  },
  {
   "cell_type": "code",
   "execution_count": 11,
   "metadata": {},
   "outputs": [
    {
     "data": {
      "application/vnd.jupyter.widget-view+json": {
       "model_id": "0876dc569dc84ddd93fb9acac9bf29a2",
       "version_major": 2,
       "version_minor": 0
      },
      "text/plain": [
       "HBox(children=(FloatProgress(value=0.0, max=200.0), HTML(value='')))"
      ]
     },
     "metadata": {},
     "output_type": "display_data"
    },
    {
     "name": "stdout",
     "output_type": "stream",
     "text": [
      "\n"
     ]
    }
   ],
   "source": [
    "data_X = X\n",
    "data_y = y\n",
    "scale = scale\n",
    "\n",
    "samples = 10\n",
    "tau_samples = 10\n",
    "\n",
    "# Make the minibatches smaller to account for tau_samples\n",
    "qf_train_batch = 20\n",
    "qf_batches = int(data_size / qf_train_batch)\n",
    "qf_data_size = qf_batches* qf_train_batch\n",
    "assert(qf_data_size == data_size)\n",
    "\n",
    "inducing_batch=qf_train_batch * tau_samples\n",
    "bnn = nn.Sequential(\n",
    "    bf.GILinear(in_features=2, out_features=50, inducing_batch=inducing_batch, bias=True),\n",
    "    nn.ReLU(),\n",
    "    bf.GILinear(in_features=50, out_features=1, inducing_batch=inducing_batch, bias=True, full_prec=True)\n",
    ")\n",
    "inducing_data = t.cat((\n",
    "    t.linspace(data_X.min(), data_X.max(), inducing_batch).unsqueeze(1),\n",
    "    t.linspace(0, 1, inducing_batch).unsqueeze(1)\n",
    "), 1)\n",
    "bnn = bf.InducingWrapper(bnn, inducing_batch=inducing_batch, inducing_data=inducing_data)\n",
    "bnn = bnn.to(device=device, dtype=dtype)\n",
    "\n",
    "def ALD(tau, scale, us):\n",
    "    return t.log(tau) + t.log(1-tau) - math.log(scale) - rho(tau, us/scale)\n",
    "\n",
    "opt = t.optim.Adam(bnn.parameters(), lr=0.05)\n",
    "for i in tqdm(range(200)):\n",
    "    for b in range(qf_batches):\n",
    "        l = b * qf_train_batch\n",
    "        u = l + qf_train_batch\n",
    "        \n",
    "        # randomly sample quantile locations for the batch\n",
    "        taus = t.rand((qf_train_batch * tau_samples, 1)).to(device=device, dtype=dtype)\n",
    "        batch_X = t.cat((\n",
    "            data_X[l:u,0].repeat(tau_samples).unsqueeze(1),\n",
    "            taus\n",
    "        ), 1).expand(samples, -1, -1)\n",
    "        batch_y = data_y[l:u,0].repeat(tau_samples).unsqueeze(1).expand(samples, -1, -1)\n",
    "        \n",
    "        opt.zero_grad()\n",
    "        output, logpq, _ = bf.propagate(bnn, batch_X)\n",
    "        ll = ALD(taus, 0.1/scale, batch_y - output).mean(1)\n",
    "        \n",
    "        # divide by total number of data points we will train with\n",
    "        lpq = logpq / (data_size * tau_samples)\n",
    "\n",
    "        elbo = ll.mean() + lpq.mean()\n",
    "\n",
    "        (-elbo).backward()\n",
    "        opt.step()\n"
   ]
  },
  {
   "cell_type": "code",
   "execution_count": 12,
   "metadata": {},
   "outputs": [
    {
     "data": {
      "image/png": "[encoded data removed]",
      "text/plain": [
       "<Figure size 432x288 with 1 Axes>"
      ]
     },
     "metadata": {
      "needs_background": "light"
     },
     "output_type": "display_data"
    }
   ],
   "source": [
    "def plot_quantiles(net):\n",
    "    with t.no_grad():\n",
    "        num_quantiles = 20\n",
    "        quantiles = [i * 1/num_quantiles for i in range(1,num_quantiles)]\n",
    "\n",
    "        # plot the quantile function for each of the n quantiles:\n",
    "        for q in quantiles:\n",
    "            min = data_X.min()\n",
    "            max = data_X.max()\n",
    "            xs = t.linspace(min, max, 100)[:, None].to(device=device, dtype=dtype)\n",
    "            qs =  q * t.ones(xs.shape).to(device=device, dtype=dtype)\n",
    "            xs = t.cat((xs,qs), 1)\n",
    "            ys, _, _ = bf.propagate(net, xs.expand(100, -1, -1))\n",
    "            mean_ys = ys.mean(0) * scale\n",
    "            std_ys = ys.std(0) * scale\n",
    "            plt.plot(xs[:,0].cpu(), mean_ys.cpu())\n",
    "            #plt.fill_between(xs[:,0], mean_ys[:,0]-2*std_ys[:,0], mean_ys[:,0]+2*std_ys[:,0], alpha=0.2)\n",
    "        plt.scatter(data_X.cpu(), data_y.cpu() * scale, c='r')\n",
    "        \n",
    "plot_quantiles(bnn)"
   ]
  },
  {
   "cell_type": "code",
   "execution_count": 14,
   "metadata": {},
   "outputs": [
    {
     "data": {
      "application/vnd.jupyter.widget-view+json": {
       "model_id": "f46ff9dbb1994cb99937697fb217611e",
       "version_major": 2,
       "version_minor": 0
      },
      "text/plain": [
       "interactive(children=(FloatSlider(value=0.0, description='x_loc', max=1.9882662296295166, min=-1.9950559139251…"
      ]
     },
     "metadata": {},
     "output_type": "display_data"
    },
    {
     "data": {
      "text/plain": [
       "<function __main__.plot_density(x_loc)>"
      ]
     },
     "execution_count": 14,
     "metadata": {},
     "output_type": "execute_result"
    }
   ],
   "source": [
    "def plot_density(x_loc):\n",
    "    # The number of points to plot the quantile function at\n",
    "    samples = 100\n",
    "    N = 80\n",
    "    taus = t.linspace(0, 1, N).unsqueeze(1).expand(100, -1, -1).to(dtype=dtype)\n",
    "    taus = taus.clone().detach().requires_grad_(True)#t.tensor(taus, requires_grad=True)\n",
    "    \n",
    "    xs = t.cat((\n",
    "        t.tensor([x_loc]).repeat(N).unsqueeze(1).expand(100, -1, -1).to(dtype=dtype),\n",
    "        taus\n",
    "    ), 2).to(device=device)\n",
    "    \n",
    "    ys, _, _ = bf.propagate(bnn, xs)\n",
    "    ys_mean = ys.mean(0).squeeze(1)\n",
    "    \n",
    "    ys_mean_d = ys_mean.detach().cpu()\n",
    "    ys_std = ys.std(0).squeeze(1).detach().cpu()\n",
    " \n",
    "    f, (ax1, ax2) = plt.subplots(1, 2, figsize=(14,6))#, dpi=100)\n",
    "\n",
    "    ax1.set_title(\"BNN Quantile Function Approximation\")\n",
    "    ax1.set_xlabel(\"tau\")\n",
    "    ax1.set_ylabel(\"value\")\n",
    "    ax1.plot(taus[0].detach(), ys_mean.detach().cpu())\n",
    "    ax1.fill_between(taus[0].detach().squeeze(1), ys_mean_d - 2 * ys_std, ys_mean_d + 2 * ys_std, alpha=0.2)\n",
    "\n",
    "    grads = 1/((ys[:,1:] - ys[:,:-1]) / (1/N))\n",
    "    grads_mean = grads.mean(0).detach().cpu()\n",
    "    grads_std = grads.std(0).detach().cpu()\n",
    "    means = (ys_mean[1:] + ys_mean[:-1]) / 2\n",
    "    ax2.set_ylim(0,1)\n",
    "    ax2.set_title(\"PDF\")\n",
    "    ax2.set_xlabel(\"'return' value\")\n",
    "    ax2.set_ylabel(\"density\")\n",
    "    ax2.plot(means.detach().cpu(), grads_mean)\n",
    "    ax2.fill_between(means.detach().cpu(), (grads_mean - 2 * grads_std).squeeze(1), (grads_mean + 2 * grads_std).squeeze(1), alpha=0.2)\n",
    "\n",
    "interact(plot_density, x_loc=FloatSlider(min=data_X.min(), max=data_X.max()))"
   ]
  },
  {
   "cell_type": "markdown",
   "metadata": {},
   "source": [
    "## A different likelihood\n",
    "\n",
    "The quantile function which we are approximating implicitly defines a probability distribution. The idea for this new likelihood function is to use the density implied by the quantile function as the likelihood for a data point.\n",
    "\n",
    "First, recall how we can recover the density from the quantile function:\n",
    "$$\n",
    "f_Y(y\\vert x) = \\frac{1}{\\frac{\\delta}{\\delta \\tau}Q_Y(\\tau \\vert x)}\\Bigr\\vert_{\\substack{\\tau = \\tau_x(y)}},\n",
    "$$\n",
    "where $\\tau_x(y)$ is the quantile $\\tau$ that solves $y = Q_Y(\\tau \\vert x)$.\n",
    "\n",
    "So long as the quantile function $Q_Y(\\tau \\vert \\mathbf{x}) \\approx f_\\mathbf{w}(\\tau, \\mathbf{x})$ is monotonically increasing, this ensures that the density is normalised and hence is a valid likelihood.\n",
    "\n",
    "For the log likelihood used in the ELBO,\n",
    "$$\n",
    "\\frac{1}{B}\\sum_{i=1}^B \\log P(y_i \\vert \\tau_i, \\mathbf{x}_i, \\mathbf{w}) = -\\frac{1}{B}\\sum_{i=1}^B \\log \\frac{\\delta}{\\delta \\tau} Q_Y(\\tau_{\\mathbf{x}_i}(y_i)\\vert \\mathbf{x}_i),\n",
    "$$\n",
    "which we can approximate by searching through a grid of $\\tau \\in (0,1)$ values for each input $\\mathbf{x}_i$ to identify the interval $(\\tau_{i1}, \\tau_{i2})$ that contains $\\tau_\\mathbf{x}(y)$; that is $Q_Y(\\tau_{i1}\\vert \\mathbf{x}_i) \\le y_i \\le Q_Y(\\tau_{i2}\\vert \\mathbf{x}_i)$.\n",
    "\n",
    "We can approximate this derivative as\n",
    "\\begin{align*}\n",
    "\\frac{\\delta}{\\delta \\tau} Q_Y(\\tau_{\\mathbf{x}_i}(y_i)\\vert \\mathbf{x}_i) &\\approx \\frac{Q_Y(\\tau_{i2} \\vert \\mathbf{x}_i) - Q_Y(\\tau_{i1}\\vert \\mathbf{x}_i)}{\\tau_{i2}-\\tau_{i1}} \\\\\n",
    "&\\approx \\frac{f_\\mathbf{w}(\\tau_{i2}, \\mathbf{x}_i) - f_\\mathbf{w}(\\tau_{i1}, \\mathbf{x}_i)}{\\tau_{i2} - \\tau_{i1}}.\n",
    "\\end{align*}"
   ]
  },
  {
   "cell_type": "markdown",
   "metadata": {},
   "source": [
    "> The following is very broken. I think this is mostly because there is no mechanism to make our quantile function approximation monotonic in $\\tau$, and to range from $-\\infty$ at $\\tau = 0$, to $\\infty$ at $\\tau = 1$."
   ]
  },
  {
   "cell_type": "code",
   "execution_count": 86,
   "metadata": {},
   "outputs": [
    {
     "data": {
      "application/vnd.jupyter.widget-view+json": {
       "model_id": "f1188430c25e428ea492d7173fc074f4",
       "version_major": 2,
       "version_minor": 0
      },
      "text/plain": [
       "HBox(children=(FloatProgress(value=0.0, max=20.0), HTML(value='')))"
      ]
     },
     "metadata": {},
     "output_type": "display_data"
    },
    {
     "name": "stdout",
     "output_type": "stream",
     "text": [
      "\n"
     ]
    },
    {
     "data": {
      "application/vnd.jupyter.widget-view+json": {
       "model_id": "129173dacb92406c9d1198850a1b1b2e",
       "version_major": 2,
       "version_minor": 0
      },
      "text/plain": [
       "HBox(children=(FloatProgress(value=0.0, max=20.0), HTML(value='')))"
      ]
     },
     "metadata": {},
     "output_type": "display_data"
    },
    {
     "name": "stdout",
     "output_type": "stream",
     "text": [
      "\n"
     ]
    }
   ],
   "source": [
    "data_X = X\n",
    "data_y = y\n",
    "scale = scale\n",
    "\n",
    "samples = 10\n",
    "tau_samples = 10\n",
    "\n",
    "# Make the minibatches smaller to account for tau_samples\n",
    "qf_train_batch = 20\n",
    "qf_batches = int(data_size / qf_train_batch)\n",
    "qf_data_size = qf_batches* qf_train_batch\n",
    "assert(qf_data_size == data_size)\n",
    "\n",
    "inducing_batch=(qf_train_batch*tau_samples)\n",
    "bnn = nn.Sequential(\n",
    "    bf.GILinear(in_features=2, out_features=50, inducing_batch=inducing_batch, bias=True),\n",
    "    nn.ReLU(),\n",
    "    bf.GILinear(in_features=50, out_features=1, inducing_batch=inducing_batch, bias=True, full_prec=True)\n",
    ")\n",
    "inducing_data = t.cat((\n",
    "    t.linspace(0, 1, inducing_batch).unsqueeze(1),    \n",
    "    t.linspace(data_X.min(), data_X.max(), inducing_batch).unsqueeze(1)\n",
    "), 1)\n",
    "bnn = bf.InducingWrapper(bnn, inducing_batch=inducing_batch, inducing_data=inducing_data)\n",
    "bnn = bnn.to(device=device, dtype=dtype)\n",
    "\n",
    "def rho(tau, u):\n",
    "    \"\"\"Quantile regression loss\"\"\"\n",
    "    mask = t.where(u.detach() < 0, t.tensor([1]), t.tensor([0]))\n",
    "    return u * (tau - mask)\n",
    "\n",
    "def ALD(tau, scale, us):\n",
    "    return t.log(tau) + t.log(1-tau) - math.log(scale) - rho(tau, us/scale)\n",
    "\n",
    "# This is a hack to make the network outputs initially monotonic...\n",
    "# TODO: find a way to get rid of this\n",
    "opt = t.optim.Adam(bnn.parameters(), lr=0.05)\n",
    "for i in tqdm(range(20)):\n",
    "    for b in range(qf_batches):\n",
    "        l = b * qf_train_batch\n",
    "        u = l + qf_train_batch\n",
    "        taus = t.rand((qf_train_batch * tau_samples, 1)).to(device=device, dtype=dtype)\n",
    "        batch_X = t.cat((\n",
    "            taus,\n",
    "            data_X[l:u,0].repeat(tau_samples).unsqueeze(1)\n",
    "        ), 1).expand(samples, -1, -1)\n",
    "        batch_y = data_y[l:u,0].repeat(tau_samples).unsqueeze(1).expand(samples, -1, -1)\n",
    "        opt.zero_grad()\n",
    "        output, logpq, _ = bf.propagate(bnn, batch_X)\n",
    "        ll = ALD(taus, 1/scale, batch_y - output).mean(1)\n",
    "        lpq = logpq / (data_size * tau_samples)\n",
    "        (-(ll + lpq).mean()).backward()\n",
    "        opt.step()\n",
    "        \n",
    "# The number of tau locations used to numerically 'invert' the quantile function\n",
    "grid_size = 100\n",
    "# Weight samples from the posterior\n",
    "samples = 50\n",
    "        \n",
    "# perform training using the implied likelihood:\n",
    "for i in tqdm(range(20)):\n",
    "    for b in range(batches):\n",
    "        l = b * train_batch\n",
    "        u = l + train_batch\n",
    "\n",
    "        # sample each x in the batch at <grid_size> tau locations:\n",
    "        taus = t.linspace(0, 1, grid_size).to(device=device, dtype=dtype)\n",
    "        batch_X = t.cat((\n",
    "            taus.repeat(train_batch).unsqueeze(1),\n",
    "            data_X[l:u,0].repeat_interleave(grid_size).unsqueeze(1)\n",
    "        ),1)\n",
    "        batch_y = data_y[l:u].squeeze(1)\n",
    "        \n",
    "        eval_X = []\n",
    "        grads = []\n",
    "        \n",
    "        # equivalent to taus[1] - taus[0]\n",
    "        div = 1/(grid_size-1)\n",
    "\n",
    "        # Here we find the \\tau_{x_i}(y_i) points (without saving gradients)\n",
    "        with t.no_grad():\n",
    "            output, _, _ = bf.propagate(bnn, batch_X.expand(samples, -1, -1))\n",
    "            ys = output.mean(0) # average across all the samples from posterior weights\n",
    "        \n",
    "            for i in range(train_batch):\n",
    "                idx = i * grid_size\n",
    "                x_eval = batch_X[idx,1]\n",
    "                last_y = ys[idx]\n",
    "                for j in range(1, grid_size):\n",
    "                    # The first three if statements here account for cases where the quantile \n",
    "                    # function doesn't range from -\\infty to \\infty...\n",
    "                    # This would be fixed with a monotonic quantile function approximation,\n",
    "                    # with the correct range...\n",
    "                    \n",
    "                    if ys[idx+j] < last_y:\n",
    "                        #print(\"WARNING: non-monotonic output!!\")\n",
    "                        tau_eval = (batch_X[idx+j,0] + batch_X[idx+j-1,0])/2\n",
    "                        eval_X.append(t.tensor([tau_eval, x_eval]))\n",
    "                        grads.append(5)\n",
    "                        break\n",
    "                    else:\n",
    "                        last_y = ys[idx+j]\n",
    "                    if j == 1 and ys[idx] > batch_y[i]:\n",
    "                        # all predicted points are larger than batch_y[i]:\n",
    "                        eval_X.append(t.tensor([0.005, x_eval]))\n",
    "                        grads.append(8)\n",
    "                        break\n",
    "                    if j == grid_size-1 and ys[idx+j] < batch_y[i]:\n",
    "                        # all predicted points are smaller than batch_y[i]:\n",
    "                        eval_X.append(t.tensor([0.995, x_eval]))\n",
    "                        grads.append(8)\n",
    "                        break # not necessary\n",
    "                    if ys[idx+j-1] <= batch_y[i] and batch_y[i] <= ys[idx+j]:\n",
    "                        # This is the tau location at the midpoint of the evaluations.\n",
    "                        tau_eval = (batch_X[idx+j,0] + batch_X[idx+j-1,0])/2\n",
    "                        eval_X.append(t.tensor([tau_eval, x_eval]))\n",
    "                        grads.append((ys[idx+j] - ys[idx+j-1])/div)\n",
    "                        break\n",
    "\n",
    "        # grads is 1D\n",
    "        grads = t.tensor(grads).to(device=device, dtype=dtype)\n",
    "\n",
    "        # double minus is positive\n",
    "        ll = t.log(grads).mean()\n",
    "        eval_X = t.cat(eval_X, 0).reshape((len(grads), 2)).expand(samples, -1, -1)\n",
    "\n",
    "        opt.zero_grad()\n",
    "        output, logpq, _ = bf.propagate(bnn, eval_X)\n",
    "        output = output.mean()\n",
    "        output.backward(ll, retain_graph=True)\n",
    "        \n",
    "        elbo = ll + (logpq/data_size).mean()\n",
    "        (-elbo).backward()\n",
    "        \n",
    "        opt.step()"
   ]
  },
  {
   "cell_type": "code",
   "execution_count": null,
   "metadata": {},
   "outputs": [],
   "source": [
    "def plot_quantiles(net):\n",
    "    with t.no_grad():\n",
    "        num_quantiles = 20\n",
    "        quantiles = [i * 1/num_quantiles for i in range(1,num_quantiles)]\n",
    "\n",
    "        # plot the quantile function for each of the n quantiles:\n",
    "        for q in quantiles:\n",
    "            min = data_X.min()\n",
    "            max = data_X.max()\n",
    "            xs = t.linspace(min, max, 100)[:, None].to(device=device, dtype=dtype)\n",
    "            qs =  q * t.ones(xs.shape).to(device=device, dtype=dtype)\n",
    "            xs = t.cat((qs,xs), 1)\n",
    "            ys, _, _ = bf.propagate(net, xs.expand(100, -1, -1))\n",
    "            mean_ys = ys.mean(0) * scale\n",
    "            std_ys = ys.std(0) * scale\n",
    "            plt.plot(xs[:,1].cpu(), mean_ys.cpu())\n",
    "            #plt.fill_between(xs[:,0], mean_ys[:,0]-2*std_ys[:,0], mean_ys[:,0]+2*std_ys[:,0], alpha=0.2)\n",
    "        plt.scatter(data_X.cpu(), data_y.cpu() * scale, c='r')\n",
    "        \n",
    "plot_quantiles(bnn)"
   ]
  },
  {
   "cell_type": "markdown",
   "metadata": {},
   "source": [
    "# Bayesian Mixture Density Network\n",
    "\n",
    "Here we approximate the conditional return density for a given state-action pair as a mixture of univariate Gaussians, using a Bayesian mixture density network. The generative model is\n",
    "$$\n",
    "p(y\\vert\\mathbf{x}) = \\sum^K_{i=1}\\pi_i(\\mathbf{x})\\mathcal{N}\\big(y;\\mu_i(\\mathbf{x}), \\sigma^2(\\mathbf{x})\\big).\n",
    "$$\n",
    "In this case, since we're predicting a return distribution, where the return is a single scalar random variable, we only need to produce a mixture of univariate Gaussians, simplifying things somewhat.\n",
    "\n",
    "In the above, $K$ is the number of mixture components, and $\\sum^K_{i=1}\\pi_i(\\mathbf{x}) = 1,\\ \\ \\forall \\mathbf{x}\\in\\mathcal{X}$, as well as $\\sigma^2_{i}(\\mathbf{x}) > 0\\ \\ \\forall \\mathbf{x}\\in\\mathcal{X}$. To ensure these constraints, we pass the mixture weights through a softmax after the final layer, and we can exponentiate the mixture variances after the final layer to ensure positivity."
   ]
  },
  {
   "cell_type": "code",
   "execution_count": 15,
   "metadata": {},
   "outputs": [
    {
     "data": {
      "application/vnd.jupyter.widget-view+json": {
       "model_id": "746871062ff048d492f84f100f1d40ca",
       "version_major": 2,
       "version_minor": 0
      },
      "text/plain": [
       "HBox(children=(FloatProgress(value=0.0, max=1000.0), HTML(value='')))"
      ]
     },
     "metadata": {},
     "output_type": "display_data"
    },
    {
     "name": "stdout",
     "output_type": "stream",
     "text": [
      "\n"
     ]
    }
   ],
   "source": [
    "data_X = X\n",
    "data_y = y\n",
    "\n",
    "inducing_batch = 40\n",
    "# Number of Gaussians\n",
    "num_gaussians = 2\n",
    "\n",
    "num_points = samples * data_size * (num_gaussians+2)\n",
    "\n",
    "class BMDN(nn.Module):\n",
    "    \"\"\"Bayesian mixture density network\"\"\"\n",
    "    def __init__(self, inducing_batch, n_gaussians):\n",
    "        super(BMDN, self).__init__()\n",
    "        inducing_data = t.linspace(data_X.min(), data_X.max(), inducing_batch).unsqueeze(1)\n",
    "        self.ia = bf.InducingAdd(inducing_batch=inducing_batch, inducing_data=inducing_data)\n",
    "        self.ir = bf.InducingRemove(inducing_batch=inducing_batch)\n",
    "        \n",
    "        self.fc1 = bf.GILinear(in_features=1, out_features=50, inducing_batch=inducing_batch, bias=True)\n",
    "        self.pi = bf.GILinear(in_features=50, out_features=n_gaussians, inducing_batch=inducing_batch, bias=True, full_prec=True)\n",
    "        self.mu = bf.GILinear(in_features=50, out_features=n_gaussians, inducing_batch=inducing_batch, bias=True, full_prec=True)\n",
    "        self.sigma = bf.GILinear(in_features=50, out_features=n_gaussians, inducing_batch=inducing_batch, bias=True, full_prec=True)\n",
    "        \n",
    "    def forward(self, x):\n",
    "        # Add the inducing points\n",
    "        x = self.ia(x)\n",
    "        \n",
    "        x = t.sigmoid(self.fc1(x))\n",
    "        \n",
    "        # apply softmax to mixture weights, exp to variances, \n",
    "        # and remove inducing points \n",
    "        pi = self.ir(F.softmax(self.pi(x), -1))\n",
    "        mu = self.ir(self.mu(x))\n",
    "        sigma = self.ir(t.exp(self.sigma(x)))\n",
    "        return pi, mu, sigma\n",
    "        \n",
    "bmdn = BMDN(inducing_batch, num_gaussians).to(device=device, dtype=dtype)\n",
    "\n",
    "samples = 20\n",
    "opt = t.optim.Adam(bmdn.parameters(), lr=0.05)\n",
    "for i in tqdm(range(1000)):\n",
    "    for b in range(batches):\n",
    "        l = b * train_batch\n",
    "        u = l + train_batch\n",
    "        batch_X = data_X[l:u].expand(samples, -1, -1)\n",
    "        batch_y = data_y[l:u].expand(samples, -1, -1)\n",
    "                \n",
    "        (pi, mu, sigma), logpq, _ = bf.propagate(bmdn, batch_X)\n",
    "\n",
    "        # Draw the densities of each individual gaussian\n",
    "        desities = t.exp(Normal(mu, sigma).log_prob(batch_y))\n",
    "        # multiply the densities by the mixture weights:\n",
    "        components = desities * pi\n",
    "        # add each of the components\n",
    "        mix = components.sum(-1)\n",
    "        # find average of log likelihood\n",
    "        ll = t.log(mix).mean(-1)\n",
    "        \n",
    "        assert ll.shape == (samples,)\n",
    "        assert logpq.shape == (samples,)\n",
    "        \n",
    "        elbo = ll + logpq/num_points\n",
    "        \n",
    "        opt.zero_grad()\n",
    "        (-elbo.mean()).backward()\n",
    "        opt.step()"
   ]
  },
  {
   "cell_type": "code",
   "execution_count": 16,
   "metadata": {},
   "outputs": [
    {
     "data": {
      "application/vnd.jupyter.widget-view+json": {
       "model_id": "851909ec9d9345dc94a827edd8f733d8",
       "version_major": 2,
       "version_minor": 0
      },
      "text/plain": [
       "interactive(children=(FloatSlider(value=0.0, description='x_loc', max=1.9882662296295166, min=-1.9950559139251…"
      ]
     },
     "metadata": {},
     "output_type": "display_data"
    },
    {
     "data": {
      "text/plain": [
       "<function __main__.plot_at_x(x_loc)>"
      ]
     },
     "execution_count": 16,
     "metadata": {},
     "output_type": "execute_result"
    }
   ],
   "source": [
    "def plot_at_x(x_loc):\n",
    "    samples = 20\n",
    "    N = 80\n",
    "    ys = t.linspace(data_y.min(), data_y.max(), N).unsqueeze(1)\n",
    "    xs = t.tensor([[x_loc]]).expand(samples, -1, -1).to(device=device, dtype=dtype)\n",
    "    \n",
    "    with t.no_grad():\n",
    "        outputs, _, _ = bf.propagate(bmdn, xs)\n",
    "        pi, mu, sigma = outputs#.split((samples, samples, samples),0)\n",
    "        tmp = t.exp(Normal(mu, sigma).log_prob(ys)) * pi\n",
    "        # add the mixture densities\n",
    "        tmp = tmp.sum(2)\n",
    "        ys_mean = tmp.mean(0).cpu()\n",
    "        ys_std = tmp.std(0).cpu()*2\n",
    "        sigma_mean = sigma.mean(0)\n",
    "        plt.title(\"Probability Density\")\n",
    "        plt.xlabel(\"return value\")\n",
    "        plt.ylabel(\"probability\")\n",
    "        plt.plot(ys, ys_mean, c='b')\n",
    "        plt.fill_between(ys.squeeze(), (ys_mean-2*ys_std).squeeze(), (ys_mean+2*ys_std).squeeze(), alpha=0.3)\n",
    "\n",
    "interact(plot_at_x, x_loc=FloatSlider(min=data_X.min(), max=data_X.max()))"
   ]
  },
  {
   "cell_type": "code",
   "execution_count": 17,
   "metadata": {},
   "outputs": [
    {
     "data": {
      "text/plain": [
       "<matplotlib.collections.PathCollection at 0x7fcd3407c130>"
      ]
     },
     "execution_count": 17,
     "metadata": {},
     "output_type": "execute_result"
    },
    {
     "data": {
      "image/png": "[encoded data removed]",
      "text/plain": [
       "<Figure size 576x576 with 1 Axes>"
      ]
     },
     "metadata": {
      "needs_background": "light"
     },
     "output_type": "display_data"
    }
   ],
   "source": [
    "plt.figure(figsize=(8,8))\n",
    "xs = t.linspace(data_X.min(), data_X.max(), 100)\n",
    "xs_in = xs.unsqueeze(1).expand(100, -1, -1).to(device=device, dtype=dtype)\n",
    "output, _, _ = bf.propagate(bmdn, xs_in)\n",
    "pi, mu, sigma = output\n",
    "pi = pi.mean(0).detach().cpu()\n",
    "mu = mu.mean(0).detach().cpu()\n",
    "sigma = sigma.mean(0).detach().cpu()\n",
    "\n",
    "plt.plot(xs, mu[:,0])\n",
    "plt.plot(xs, mu[:,1])\n",
    "\n",
    "plt.fill_between(xs, mu[:,0]+sigma[:,0], mu[:,0]-sigma[:,0], alpha=0.2)\n",
    "plt.fill_between(xs, mu[:,1]+sigma[:,1], mu[:,1]-sigma[:,1], alpha=0.2)\n",
    "\n",
    "plt.scatter(data_X,data_y)"
   ]
  },
  {
   "cell_type": "code",
   "execution_count": null,
   "metadata": {
    "jupyter": {
     "source_hidden": true
    }
   },
   "outputs": [],
   "source": [
    "# old code:\n",
    "        continue\n",
    "        \n",
    "       \n",
    "\n",
    "        \n",
    "        opt.zero_grad()\n",
    "        output, logpq, _ = bf.propagate(bnn, eval_X)\n",
    "        ys = output.mean(0).reshape((train_batch, 2))\n",
    "        grads = ((ys[:,0]-ys[:,1]) / div)\n",
    "        # where all points are larger than y, grad = smallest - y\n",
    "        #grads = grads + coefs\n",
    "        grads = t.log(grads)\n",
    "        # grads = t.log(((ys[:,0]-ys[:,1]) / div) * coefs)\n",
    "        ll = -(grads.sum())\n",
    "        ll = ll/(train_batch)\n",
    "        lpq = (logpq/(data_size*2)).mean()\n",
    "        (-(ll + lpq)).backward()\n",
    "        opt.step()\n",
    "\n",
    "\n",
    "        \"\"\"\n",
    "        continue\n",
    "        ys.transpose(0,1).reshape((train_batch, 2))\n",
    "        ll = t.tensor([0]).to(device=device, dtype=dtype)\n",
    "        \n",
    "        # use this to find the taus at which to evaluate: 2 per batch point\n",
    "        for i in range(train_batch):\n",
    "            idx = i * grid_size\n",
    "            for j in range(grid_size-1):\n",
    "                if j == 0 and ys[idx] > batch_y[i]:\n",
    "                    #print(\"ALL VALUES LARGER THAN Y\")\n",
    "                    # if all values are larger than y: a very large gradient indicates low density\n",
    "                    #eval_X.append(batch_X[idx+j])\n",
    "                    g = (ys[idx+j+1] - ys[idx+j]) / div\n",
    "                    ll = ll - t.log(g)\n",
    "                    break\n",
    "                if j == grid_size-2 and ys[idx+j] < batch_y[i]:\n",
    "                    #eval_X.append(batch_X[idx+j])\n",
    "                    #print(\"ALL VALUES LESS THAN Y\")\n",
    "                    # all values are less than y:\n",
    "                    g = (ys[idx+grid_size-1] - ys[idx+grid_size-2]) / div\n",
    "                    ll = ll - t.log(g)\n",
    "                    break\n",
    "                if ys[idx+j] <= batch_y[i] and batch_y[i] <= ys[idx+j+1]:\n",
    "                    #eval_X.append(batch_X[idx+j])\n",
    "                    #print(\"target y val:\", batch_y[i])\n",
    "                    #print(\"smaller val:\", ys[(i*grid_size)+j])\n",
    "                    #print(\"bigger val:\", ys[(i*grid_size)+j+1])\n",
    "                    g = (ys[idx+j+1] - ys[idx+j]) / div\n",
    "                    #print(\"gradient val:\", g)\n",
    "                    ll = ll + t.log(g)\n",
    "                    break\n",
    "\n",
    "        ll = -(ll/train_batch)\n",
    "        lpq = (logpq/data_size).mean()\n",
    "        with t.no_grad():\n",
    "            lls.append(ll)\n",
    "            lpqs.append(lpq)\n",
    "        (-(ll + lpq)).backward()\n",
    "        opt.step()\n",
    "        #break\n",
    "        \"\"\"\n",
    "        \n",
    "        \"\"\"\n",
    "        # Purely vector-function based approach\n",
    "        output, logpq, _ = bf.propagate(bnn, batch_X.expand(samples, -1, -1))\n",
    "        ys = output.mean(0) # average across all the samples\n",
    "        ys = ys.transpose(0,1).reshape((train_batch, grid_size))\n",
    "        by = batch_y.expand(-1, grid_size) \n",
    "        diffs = (ys[:,1:] - ys[:,:-1])\n",
    "        mask = t.logical_and(ys.lt(by)[:,:-1], ys.gt(by)[:,1:])\n",
    "        grads = t.log(diffs.masked_select(mask)/div)\n",
    "        print(grads)\n",
    "        ll = (-grads.sum())/batch_X.shape[0]\n",
    "        lpq = (logpq/(batches * batch_X.shape[0])).mean()\n",
    "        with t.no_grad():\n",
    "            lls.append(ll.detach().cpu())\n",
    "            lpqs.append(lpq.detach().cpu())\n",
    "        (-(ll + lpq)).backward()\n",
    "        opt.step()\n",
    "        \"\"\"\n",
    "    #break\n",
    "\n",
    "# want this increasing slowly\n",
    "#plt.plot(t.arange(len(lls)), lls, c='b')\n",
    "# want this descresing slowly\n",
    "#plt.plot(t.arange(len(lpqs)), lpqs, c='r')"
   ]
  }
 ],
 "metadata": {
  "kernelspec": {
   "display_name": "Python 3",
   "language": "python",
   "name": "python3"
  },
  "language_info": {
   "codemirror_mode": {
    "name": "ipython",
    "version": 3
   },
   "file_extension": ".py",
   "mimetype": "text/x-python",
   "name": "python",
   "nbconvert_exporter": "python",
   "pygments_lexer": "ipython3",
   "version": "3.8.5"
  }
 },
 "nbformat": 4,
 "nbformat_minor": 4
}
